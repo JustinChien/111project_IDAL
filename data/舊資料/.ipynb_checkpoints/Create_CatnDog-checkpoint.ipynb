{
 "cells": [
  {
   "cell_type": "code",
   "execution_count": 18,
   "id": "c2448b10-047d-4c3d-b18a-51a1d8f5e3e6",
   "metadata": {},
   "outputs": [],
   "source": [
    "import glob\n",
    "import os\n",
    "import pandas as pd\n",
    "IMG_PATH = \"D:\\\\111project\\\\github\\\\041-111project\\\\data\\\\CatsandDogs\\\\train\"\n",
    "\n",
    "cat_imgs = glob.glob(os.path.join(IMG_PATH,\"cat*\"))\n",
    "dog_imgs = glob.glob(os.path.join(IMG_PATH,\"dog*\"))"
   ]
  },
  {
   "cell_type": "code",
   "execution_count": 21,
   "id": "0b5f539e-8f91-410e-9f7b-a3dd43b76465",
   "metadata": {
    "tags": []
   },
   "outputs": [],
   "source": [
    "data = list()\n",
    "\n",
    "for img in cat_imgs:\n",
    "    data.append([img,0,1])\n",
    "    \n",
    "for img in dog_imgs:\n",
    "    data.append([img,1,0])"
   ]
  },
  {
   "cell_type": "code",
   "execution_count": 22,
   "id": "f6b49d07-5029-4ae1-840b-fd02fece6857",
   "metadata": {},
   "outputs": [],
   "source": [
    "df = pd.DataFrame(data,columns=[\"path\",\"dog\",\"cat\"])\n",
    "df.to_csv(\"D:\\\\111project\\\\github\\\\041-111project\\\\data\\\\CatsandDogs\\\\train.csv\",index=False)"
   ]
  },
  {
   "cell_type": "code",
   "execution_count": null,
   "id": "32c35421-a0a4-49a0-ad66-2a108bab1481",
   "metadata": {},
   "outputs": [],
   "source": []
  }
 ],
 "metadata": {
  "kernelspec": {
   "display_name": "Python 3 (ipykernel)",
   "language": "python",
   "name": "python3"
  },
  "language_info": {
   "codemirror_mode": {
    "name": "ipython",
    "version": 3
   },
   "file_extension": ".py",
   "mimetype": "text/x-python",
   "name": "python",
   "nbconvert_exporter": "python",
   "pygments_lexer": "ipython3",
   "version": "3.7.13"
  }
 },
 "nbformat": 4,
 "nbformat_minor": 5
}
