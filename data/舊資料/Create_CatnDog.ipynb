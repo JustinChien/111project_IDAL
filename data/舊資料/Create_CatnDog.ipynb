{
 "cells": [
  {
   "cell_type": "code",
   "execution_count": 26,
   "id": "c2448b10-047d-4c3d-b18a-51a1d8f5e3e6",
   "metadata": {},
   "outputs": [],
   "source": [
    "import glob\n",
    "import os\n",
    "import pandas as pd\n",
    "IMG_PATH = \"D:\\\\111project\\\\github\\\\041-111project\\\\data\\\\CatsandDogs\\\\train\"\n",
    "\n",
    "cat_imgs = glob.glob(os.path.join(IMG_PATH,\"cat*\"))\n",
    "dog_imgs = glob.glob(os.path.join(IMG_PATH,\"dog*\"))"
   ]
  },
  {
   "cell_type": "code",
   "execution_count": 28,
   "id": "0b5f539e-8f91-410e-9f7b-a3dd43b76465",
   "metadata": {
    "tags": []
   },
   "outputs": [],
   "source": [
    "data_cat = list()\n",
    "data_dog = list()\n",
    "data = list()\n",
    "\n",
    "for img in cat_imgs:\n",
    "    data_cat.append([img,0,1])\n",
    "    \n",
    "for img in dog_imgs:\n",
    "    data_dog.append([img,1,0])\n",
    "    \n",
    "data = data_cat[:1000]+data_dog[:1000]"
   ]
  },
  {
   "cell_type": "code",
   "execution_count": 29,
   "id": "f6b49d07-5029-4ae1-840b-fd02fece6857",
   "metadata": {},
   "outputs": [],
   "source": [
    "df = pd.DataFrame(data,columns=[\"path\",\"dog\",\"cat\"])"
   ]
  },
  {
   "cell_type": "code",
   "execution_count": 33,
   "id": "32c35421-a0a4-49a0-ad66-2a108bab1481",
   "metadata": {},
   "outputs": [],
   "source": [
    "df.to_csv(\"D:\\\\111project\\\\github\\\\041-111project\\\\data\\\\CatsandDogs\\\\train.csv\",index=False)"
   ]
  },
  {
   "cell_type": "code",
   "execution_count": 31,
   "id": "36ef9baa-2a84-4cad-b650-041e2f985ba6",
   "metadata": {},
   "outputs": [
    {
     "data": {
      "text/html": [
       "<div>\n",
       "<style scoped>\n",
       "    .dataframe tbody tr th:only-of-type {\n",
       "        vertical-align: middle;\n",
       "    }\n",
       "\n",
       "    .dataframe tbody tr th {\n",
       "        vertical-align: top;\n",
       "    }\n",
       "\n",
       "    .dataframe thead th {\n",
       "        text-align: right;\n",
       "    }\n",
       "</style>\n",
       "<table border=\"1\" class=\"dataframe\">\n",
       "  <thead>\n",
       "    <tr style=\"text-align: right;\">\n",
       "      <th></th>\n",
       "      <th>dog</th>\n",
       "      <th>cat</th>\n",
       "    </tr>\n",
       "  </thead>\n",
       "  <tbody>\n",
       "    <tr>\n",
       "      <th>count</th>\n",
       "      <td>2000.000000</td>\n",
       "      <td>2000.000000</td>\n",
       "    </tr>\n",
       "    <tr>\n",
       "      <th>mean</th>\n",
       "      <td>0.500000</td>\n",
       "      <td>0.500000</td>\n",
       "    </tr>\n",
       "    <tr>\n",
       "      <th>std</th>\n",
       "      <td>0.500125</td>\n",
       "      <td>0.500125</td>\n",
       "    </tr>\n",
       "    <tr>\n",
       "      <th>min</th>\n",
       "      <td>0.000000</td>\n",
       "      <td>0.000000</td>\n",
       "    </tr>\n",
       "    <tr>\n",
       "      <th>25%</th>\n",
       "      <td>0.000000</td>\n",
       "      <td>0.000000</td>\n",
       "    </tr>\n",
       "    <tr>\n",
       "      <th>50%</th>\n",
       "      <td>0.500000</td>\n",
       "      <td>0.500000</td>\n",
       "    </tr>\n",
       "    <tr>\n",
       "      <th>75%</th>\n",
       "      <td>1.000000</td>\n",
       "      <td>1.000000</td>\n",
       "    </tr>\n",
       "    <tr>\n",
       "      <th>max</th>\n",
       "      <td>1.000000</td>\n",
       "      <td>1.000000</td>\n",
       "    </tr>\n",
       "  </tbody>\n",
       "</table>\n",
       "</div>"
      ],
      "text/plain": [
       "               dog          cat\n",
       "count  2000.000000  2000.000000\n",
       "mean      0.500000     0.500000\n",
       "std       0.500125     0.500125\n",
       "min       0.000000     0.000000\n",
       "25%       0.000000     0.000000\n",
       "50%       0.500000     0.500000\n",
       "75%       1.000000     1.000000\n",
       "max       1.000000     1.000000"
      ]
     },
     "execution_count": 31,
     "metadata": {},
     "output_type": "execute_result"
    }
   ],
   "source": [
    "df.describe()"
   ]
  },
  {
   "cell_type": "code",
   "execution_count": null,
   "id": "5f768bab-9f7b-4c68-b794-292012932ce3",
   "metadata": {},
   "outputs": [],
   "source": []
  }
 ],
 "metadata": {
  "kernelspec": {
   "display_name": "Python 3 (ipykernel)",
   "language": "python",
   "name": "python3"
  },
  "language_info": {
   "codemirror_mode": {
    "name": "ipython",
    "version": 3
   },
   "file_extension": ".py",
   "mimetype": "text/x-python",
   "name": "python",
   "nbconvert_exporter": "python",
   "pygments_lexer": "ipython3",
   "version": "3.7.13"
  }
 },
 "nbformat": 4,
 "nbformat_minor": 5
}
